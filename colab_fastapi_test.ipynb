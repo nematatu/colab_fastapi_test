{
  "nbformat": 4,
  "nbformat_minor": 0,
  "metadata": {
    "colab": {
      "provenance": [],
      "authorship_tag": "ABX9TyP2yoIFOSLPLKJcxD5K+HyL",
      "include_colab_link": true
    },
    "kernelspec": {
      "name": "python3",
      "display_name": "Python 3"
    },
    "language_info": {
      "name": "python"
    }
  },
  "cells": [
    {
      "cell_type": "markdown",
      "metadata": {
        "id": "view-in-github",
        "colab_type": "text"
      },
      "source": [
        "<a href=\"https://colab.research.google.com/github/nematatu/colab_fastapi_test/blob/main/colab_fastapi_test.ipynb\" target=\"_parent\"><img src=\"https://colab.research.google.com/assets/colab-badge.svg\" alt=\"Open In Colab\"/></a>"
      ]
    },
    {
      "cell_type": "code",
      "execution_count": 7,
      "metadata": {
        "id": "MwluyHGIP7-E"
      },
      "outputs": [],
      "source": [
        "!pip install -q fastapi nest-asyncio pyngrok uvicorn"
      ]
    },
    {
      "cell_type": "code",
      "source": [
        "from fastapi import FastAPI\n",
        "from fastapi.middleware.cors import CORSMiddleware\n",
        "\n",
        "app = FastAPI()\n",
        "\n",
        "app.add_middleware(\n",
        "    CORSMiddleware,\n",
        "    allow_origins=['*'],\n",
        "    allow_credentials=True,\n",
        "    allow_methods=['*'],\n",
        "    allow_headers=['*'],\n",
        ")\n",
        "#CORSの許可\n",
        "#allow_origins: すべてのオリジンからのアクセスを許可\n",
        "#allow_credentials: クッキーとか許可\n",
        "#alllow_methos: CRUD処理を許可\n",
        "#allow_headers: ヘッダーを許可\n",
        "@app.get('/')\n",
        "async def root():\n",
        "    return {'hello': 'world'}"
      ],
      "metadata": {
        "id": "GKf7SImLQOME"
      },
      "execution_count": 8,
      "outputs": []
    },
    {
      "cell_type": "code",
      "source": [
        "import nest_asyncio\n",
        "from pyngrok import ngrok\n",
        "import uvicorn\n",
        "\n",
        "ngrok.set_auth_token(\"2bGgiUU9onhpb48TzrLMt0NxQj1_6xAXR78SgtCkBVJFrESb6\")\n",
        "\n",
        "ngrok_tunnel=ngrok.connect(8000)\n",
        "print('PUBLIC_URL:',ngrok_tunnel.public_url)\n",
        "nest_asyncio.apply()\n",
        "uvicorn.run(app,port=8000)"
      ],
      "metadata": {
        "colab": {
          "base_uri": "https://localhost:8080/"
        },
        "id": "yKiyAlnvT3Zu",
        "outputId": "13ec249e-e90f-477c-ccf0-6ea283ef3954"
      },
      "execution_count": 9,
      "outputs": [
        {
          "metadata": {
            "tags": null
          },
          "name": "stderr",
          "output_type": "stream",
          "text": [
            "INFO:     Started server process [245]\n",
            "INFO:     Waiting for application startup.\n",
            "INFO:     Application startup complete.\n",
            "INFO:     Uvicorn running on http://127.0.0.1:8000 (Press CTRL+C to quit)\n"
          ]
        },
        {
          "metadata": {
            "tags": null
          },
          "name": "stdout",
          "output_type": "stream",
          "text": [
            "PUBLIC_URL: https://9618-34-23-8-191.ngrok-free.app\n",
            "INFO:     2001:f76:7840:4200:44e8:6e4e:7d11:9fc3:0 - \"GET / HTTP/1.1\" 200 OK\n",
            "INFO:     2001:f76:7840:4200:44e8:6e4e:7d11:9fc3:0 - \"GET /favicon.ico HTTP/1.1\" 404 Not Found\n",
            "INFO:     2001:f76:7840:4200:44e8:6e4e:7d11:9fc3:0 - \"GET /docs HTTP/1.1\" 200 OK\n",
            "INFO:     2001:f76:7840:4200:44e8:6e4e:7d11:9fc3:0 - \"GET /openapi.json HTTP/1.1\" 200 OK\n"
          ]
        },
        {
          "output_type": "stream",
          "name": "stderr",
          "text": [
            "INFO:     Shutting down\n",
            "INFO:     Waiting for application shutdown.\n",
            "INFO:     Application shutdown complete.\n",
            "INFO:     Finished server process [245]\n"
          ]
        }
      ]
    }
  ]
}